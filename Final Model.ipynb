{
 "cells": [
  {
   "cell_type": "code",
   "execution_count": 1,
   "metadata": {},
   "outputs": [],
   "source": [
    "import numpy as np\n",
    "import pandas as pd\n",
    "import matplotlib.pyplot as plt\n",
    "import seaborn as sns\n",
    "from xgboost import XGBRegressor\n",
    "import warnings\n",
    "from datetime import datetime\n",
    "warnings.filterwarnings(\"ignore\")\n",
    "\n",
    "df=pd.read_csv(\"vehicle_details_new.csv\")\n",
    "\n",
    "df.drop(df[df[\"fleet_status\"]==\"ASSIGNED_TO_AUCTION\"].index,inplace=True)\n",
    "df.drop(columns=[\"expected_sale_price\",\"min_bid_price\",\"sale_date\",\"fleet_status\",\"remarks\",\"vehicle_id\"],inplace=True)\n",
    "df.drop(df[df[\"sale_price\"].isnull()].index,inplace=True)\n",
    "\n",
    "df[\"years since manufacture\"] = df[\"year\"].apply(lambda a : 2024-a)\n",
    "df[\"purchase_date\"] = pd.to_datetime(df[\"purchase_date\"])\n",
    "df[\"days since purchase\"] = (datetime.now() -  df[\"purchase_date\"]).dt.days   \n",
    "df.drop(columns=[\"year\",\"purchase_date\"],inplace=True)\n",
    "\n",
    "df[\"grade\"] = df[\"grade\"].replace({'GRADE_0':8,'GRADE_1':7,'GRADE_2':6,'GRADE_3':5,'GRADE_4':4,'GRADE_5':3,'GRADE_6':2,'COMPLETE':1,'SALVAGE':0})\n",
    "df[\"color\"] = df[\"color\"].replace({'Black     ':'Black','Blue      ':'Blue','Grey      ':'Grey','White     ':'White','Silver    ':'Silver','Silver\\xa0\\xa0\\xa0\\xa0':'Silver','Beige     ':'Beige','Baige     ':'Beige','Red       ':'Red','Gray':'Grey','37281':'Red','White\\xa0\\xa0\\xa0\\xa0\\xa0':'White','Golden    ':'Golden','Lt. Golden':'Golden', 'Brown     ':'Brown'})\n",
    "\n",
    "df_num = df.select_dtypes(include=np.number)\n",
    "df_cat = df.select_dtypes(include=object)\n",
    "\n",
    "encoder ={}\n",
    "for col in df_cat.columns:\n",
    "    encoder[col] = {}\n",
    "    for category in df_cat[col].unique():\n",
    "        encoder[col][category] = df_num[df_cat[col]==category][\"sale_price\"].mean()\n",
    "    df_cat[col] = df_cat[col].map(encoder[col])\n",
    "\n",
    "X_num = df_num.drop(columns=[\"sale_price\"],axis=True)\n",
    "X = pd.concat([X_num,df_cat],axis=1)\n",
    "y = df_num[\"sale_price\"]\n",
    "\n",
    "xgbregressor = XGBRegressor(random_state=100,n_estimators=100).fit(X,y)"
   ]
  },
  {
   "cell_type": "code",
   "execution_count": 42,
   "metadata": {},
   "outputs": [],
   "source": [
    "def predict_car_price(manufacture_year,color,make_name,model_name,kilometer,grade,net_book_value,purchase_price,purchase_date):\n",
    "    grade = {'GRADE_0':8,'GRADE_1':7,'GRADE_2':6,'GRADE_3':5,'GRADE_4':4,'GRADE_5':3,'GRADE_6':2,'COMPLETE':1,'SALVAGE':0}[grade]\n",
    "    years_since_manufacture = datetime.now().year - manufacture_year\n",
    "    days_since_purchase = (datetime.now() - datetime.strptime(purchase_date,\"%Y-%m-%d %H:%M:%S\")).days\n",
    "    make_value = encoder[\"make_name\"][make_name]\n",
    "    color_replace = {'Black     ':'Black','Blue      ':'Blue','Grey      ':'Grey','White     ':'White','Silver    ':'Silver','Silver\\xa0\\xa0\\xa0\\xa0':'Silver','Beige     ':'Beige','Baige     ':'Beige','Red       ':'Red','Gray':'Grey','37281':'Red','White\\xa0\\xa0\\xa0\\xa0\\xa0':'White','Golden    ':'Golden','Lt. Golden':'Golden', 'Brown     ':'Brown'}\n",
    "    if color in color_replace.keys():\n",
    "        color = color_replace[color]\n",
    "    if color in encoder[\"color\"].keys():\n",
    "        color_value = encoder[\"color\"][color]\n",
    "    else:\n",
    "        color_value = y.mean()\n",
    "    if model_name in encoder[\"model_name\"].keys():\n",
    "        model_value = encoder[\"model_name\"][model_name]\n",
    "    else:\n",
    "        model_value = y.mean()\n",
    "    data = pd.DataFrame({'kilometer':kilometer,'grade':grade,'net_book_value':net_book_value,'purchase_price':purchase_price,\n",
    "                         'years since manufacture':years_since_manufacture,'days since purchase':days_since_purchase,'color':color_value,\n",
    "                         'make_name':make_value,'model_name':model_value},index=[0])\n",
    "    return round(float(xgbregressor.predict(data)[0]),2)"
   ]
  },
  {
   "cell_type": "code",
   "execution_count": 63,
   "metadata": {},
   "outputs": [],
   "source": [
    "def predict_cars_prices(data):\n",
    "    df = data.copy()\n",
    "\n",
    "    df[\"years since manufacture\"] = df[\"year\"].apply(lambda a : 2024-a)\n",
    "    df[\"purchase_date\"] = pd.to_datetime(df[\"purchase_date\"])\n",
    "    df[\"days since purchase\"] = (datetime.now() -  df[\"purchase_date\"]).dt.days   \n",
    "    df.drop(columns=[\"year\",\"purchase_date\"],inplace=True)\n",
    "\n",
    "    df[\"grade\"] = df[\"grade\"].replace({'GRADE_0':8,'GRADE_1':7,'GRADE_2':6,'GRADE_3':5,'GRADE_4':4,'GRADE_5':3,'GRADE_6':2,'COMPLETE':1,'SALVAGE':0})\n",
    "    df[\"color\"] = df[\"color\"].replace({'Black     ':'Black','Blue      ':'Blue','Grey      ':'Grey','White     ':'White','Silver    ':'Silver','Silver\\xa0\\xa0\\xa0\\xa0':'Silver','Beige     ':'Beige','Baige     ':'Beige','Red       ':'Red','Gray':'Grey','37281':'Red','White\\xa0\\xa0\\xa0\\xa0\\xa0':'White','Golden    ':'Golden','Lt. Golden':'Golden', 'Brown     ':'Brown'})\n",
    "\n",
    "    df_num = df.select_dtypes(include=np.number)\n",
    "    df_cat = df.select_dtypes(include=object)\n",
    "\n",
    "    encoder ={}\n",
    "    for col in df_cat.columns:\n",
    "        encoder[col] = {}\n",
    "        for category in df_cat[col].unique():\n",
    "            encoder[col][category] = df_num[df_cat[col]==category][\"sale_price\"].mean()\n",
    "        df_cat[col] = df_cat[col].map(encoder[col])\n",
    "\n",
    "    X_num = df_num.drop(columns=[\"sale_price\"],axis=True)\n",
    "    X = pd.concat([X_num,df_cat],axis=1)\n",
    "    X.drop(columns = [\"expected_sale_price\",\"min_bid_price\",\"sale_date\",\"fleet_status\",\"remarks\",\"vehicle_id\"],inplace=True)\n",
    "\n",
    "    return xgbregressor.predict(X)"
   ]
  },
  {
   "cell_type": "markdown",
   "metadata": {},
   "source": [
    "### Predict selling price of single car by entering values"
   ]
  },
  {
   "cell_type": "code",
   "execution_count": 43,
   "metadata": {},
   "outputs": [
    {
     "data": {
      "text/plain": [
       "26470.79"
      ]
     },
     "execution_count": 43,
     "metadata": {},
     "output_type": "execute_result"
    }
   ],
   "source": [
    "predict_car_price(manufacture_year=2022,\n",
    "                  color=\"Blue\",\n",
    "                  make_name=\"MG\",\n",
    "                  model_name=\"5\",\n",
    "                  kilometer=50585.0,\n",
    "                  grade=\"GRADE_0\",\n",
    "                  net_book_value=26002.35,\n",
    "                  purchase_price=38300.0,\n",
    "                  purchase_date=\"2022-01-23 00:00:00\")"
   ]
  },
  {
   "cell_type": "markdown",
   "metadata": {},
   "source": [
    "### Predict selling price of all cars by using a dataset"
   ]
  },
  {
   "cell_type": "code",
   "execution_count": 67,
   "metadata": {},
   "outputs": [],
   "source": [
    "data = pd.read_csv(\"vehicle_details_new.csv\")\n",
    "data[\"Predicted Sale Price\"] = predict_cars_prices(data)\n",
    "data[\"Percentage Difference\"] = round(np.abs((data[\"sale_price\"] - data[\"Predicted Sale Price\"]) / data[\"sale_price\"] * 100),2)\n",
    "data.to_csv(\"Prediction output.csv\")"
   ]
  }
 ],
 "metadata": {
  "kernelspec": {
   "display_name": "Python 3",
   "language": "python",
   "name": "python3"
  },
  "language_info": {
   "codemirror_mode": {
    "name": "ipython",
    "version": 3
   },
   "file_extension": ".py",
   "mimetype": "text/x-python",
   "name": "python",
   "nbconvert_exporter": "python",
   "pygments_lexer": "ipython3",
   "version": "3.12.5"
  }
 },
 "nbformat": 4,
 "nbformat_minor": 2
}
